{
 "cells": [
  {
   "cell_type": "markdown",
   "metadata": {
    "collapsed": true,
    "deletable": true,
    "editable": true
   },
   "source": [
    "# Image Classification\n",
    "In this project, you'll classify images from the [CIFAR-10 dataset](https://www.cs.toronto.edu/~kriz/cifar.html).  The dataset consists of airplanes, dogs, cats, and other objects. You'll preprocess the images, then train a convolutional neural network on all the samples. The images need to be normalized and the labels need to be one-hot encoded.  You'll get to apply what you learned and build a convolutional, max pooling, dropout, and fully connected layers.  At the end, you'll get to see your neural network's predictions on the sample images.\n",
    "## Get the Data\n",
    "Run the following cell to download the [CIFAR-10 dataset for python](https://www.cs.toronto.edu/~kriz/cifar-10-python.tar.gz)."
   ]
  },
  {
   "cell_type": "code",
   "execution_count": 1,
   "metadata": {
    "collapsed": false,
    "deletable": true,
    "editable": true
   },
   "outputs": [
    {
     "name": "stderr",
     "output_type": "stream",
     "text": [
      "CIFAR-10 Dataset: 171MB [00:42, 3.99MB/s]                               \n"
     ]
    },
    {
     "name": "stdout",
     "output_type": "stream",
     "text": [
      "All files found!\n"
     ]
    }
   ],
   "source": [
    "\"\"\"\n",
    "DON'T MODIFY ANYTHING IN THIS CELL THAT IS BELOW THIS LINE\n",
    "\"\"\"\n",
    "from urllib.request import urlretrieve\n",
    "from os.path import isfile, isdir\n",
    "from tqdm import tqdm\n",
    "import problem_unittests as tests\n",
    "import tarfile\n",
    "\n",
    "cifar10_dataset_folder_path = 'cifar-10-batches-py'\n",
    "\n",
    "class DLProgress(tqdm):\n",
    "    last_block = 0\n",
    "\n",
    "    def hook(self, block_num=1, block_size=1, total_size=None):\n",
    "        self.total = total_size\n",
    "        self.update((block_num - self.last_block) * block_size)\n",
    "        self.last_block = block_num\n",
    "\n",
    "if not isfile('cifar-10-python.tar.gz'):\n",
    "    with DLProgress(unit='B', unit_scale=True, miniters=1, desc='CIFAR-10 Dataset') as pbar:\n",
    "        urlretrieve(\n",
    "            'https://www.cs.toronto.edu/~kriz/cifar-10-python.tar.gz',\n",
    "            'cifar-10-python.tar.gz',\n",
    "            pbar.hook)\n",
    "\n",
    "if not isdir(cifar10_dataset_folder_path):\n",
    "    with tarfile.open('cifar-10-python.tar.gz') as tar:\n",
    "        tar.extractall()\n",
    "        tar.close()\n",
    "\n",
    "\n",
    "tests.test_folder_path(cifar10_dataset_folder_path)"
   ]
  },
  {
   "cell_type": "markdown",
   "metadata": {
    "deletable": true,
    "editable": true
   },
   "source": [
    "## Explore the Data\n",
    "The dataset is broken into batches to prevent your machine from running out of memory.  The CIFAR-10 dataset consists of 5 batches, named `data_batch_1`, `data_batch_2`, etc.. Each batch contains the labels and images that are one of the following:\n",
    "* airplane\n",
    "* automobile\n",
    "* bird\n",
    "* cat\n",
    "* deer\n",
    "* dog\n",
    "* frog\n",
    "* horse\n",
    "* ship\n",
    "* truck\n",
    "\n",
    "Understanding a dataset is part of making predictions on the data.  Play around with the code cell below by changing the `batch_id` and `sample_id`. The `batch_id` is the id for a batch (1-5). The `sample_id` is the id for a image and label pair in the batch.\n",
    "\n",
    "Ask yourself \"What are all possible labels?\", \"What is the range of values for the image data?\", \"Are the labels in order or random?\".  Answers to questions like these will help you preprocess the data and end up with better predictions."
   ]
  },
  {
   "cell_type": "code",
   "execution_count": 2,
   "metadata": {
    "collapsed": false,
    "deletable": true,
    "editable": true
   },
   "outputs": [
    {
     "name": "stdout",
     "output_type": "stream",
     "text": [
      "\n",
      "Stats of batch 1:\n",
      "Samples: 10000\n",
      "Label Counts: {0: 1005, 1: 974, 2: 1032, 3: 1016, 4: 999, 5: 937, 6: 1030, 7: 1001, 8: 1025, 9: 981}\n",
      "First 20 Labels: [6, 9, 9, 4, 1, 1, 2, 7, 8, 3, 4, 7, 7, 2, 9, 9, 9, 3, 2, 6]\n",
      "\n",
      "Example of Image 5:\n",
      "Image - Min Value: 0 Max Value: 252\n",
      "Image - Shape: (32, 32, 3)\n",
      "Label - Label Id: 1 Name: automobile\n"
     ]
    },
    {
     "data": {
      "image/png": "[encoded data removed]",
      "text/plain": [
       "<matplotlib.figure.Figure at 0x7f7e5d400a90>"
      ]
     },
     "metadata": {
      "image/png": {
       "height": 250,
       "width": 253
      }
     },
     "output_type": "display_data"
    }
   ],
   "source": [
    "%matplotlib inline\n",
    "%config InlineBackend.figure_format = 'retina'\n",
    "\n",
    "import helper\n",
    "import numpy as np\n",
    "\n",
    "# Explore the dataset\n",
    "batch_id = 1\n",
    "sample_id = 5\n",
    "helper.display_stats(cifar10_dataset_folder_path, batch_id, sample_id)"
   ]
  },
  {
   "cell_type": "markdown",
   "metadata": {
    "deletable": true,
    "editable": true
   },
   "source": [
    "## Implement Preprocess Functions\n",
    "### Normalize\n",
    "In the cell below, implement the `normalize` function to take in image data, `x`, and return it as a normalized Numpy array. The values should be in the range of 0 to 1, inclusive.  The return object should be the same shape as `x`."
   ]
  },
  {
   "cell_type": "code",
   "execution_count": 3,
   "metadata": {
    "collapsed": false,
    "deletable": true,
    "editable": true
   },
   "outputs": [
    {
     "name": "stdout",
     "output_type": "stream",
     "text": [
      "Tests Passed\n"
     ]
    }
   ],
   "source": [
    "def normalize(x):\n",
    "    \"\"\"\n",
    "    Normalize a list of sample image data in the range of 0 to 1\n",
    "    : x: List of image data.  The image shape is (32, 32, 3)\n",
    "    : return: Numpy array of normalize data\n",
    "    \"\"\"\n",
    "    return x/255.0\n",
    "\n",
    "\n",
    "\"\"\"\n",
    "DON'T MODIFY ANYTHING IN THIS CELL THAT IS BELOW THIS LINE\n",
    "\"\"\"\n",
    "tests.test_normalize(normalize)"
   ]
  },
  {
   "cell_type": "markdown",
   "metadata": {
    "deletable": true,
    "editable": true
   },
   "source": [
    "### One-hot encode\n",
    "Just like the previous code cell, you'll be implementing a function for preprocessing.  This time, you'll implement the `one_hot_encode` function. The input, `x`, are a list of labels.  Implement the function to return the list of labels as One-Hot encoded Numpy array.  The possible values for labels are 0 to 9. The one-hot encoding function should return the same encoding for each value between each call to `one_hot_encode`.  Make sure to save the map of encodings outside the function.\n",
    "\n",
    "Hint: Don't reinvent the wheel."
   ]
  },
  {
   "cell_type": "code",
   "execution_count": 4,
   "metadata": {
    "collapsed": false,
    "deletable": true,
    "editable": true
   },
   "outputs": [
    {
     "name": "stdout",
     "output_type": "stream",
     "text": [
      "Tests Passed\n"
     ]
    }
   ],
   "source": [
    "def one_hot_encode(x):\n",
    "    \"\"\"\n",
    "    One hot encode a list of sample labels. Return a one-hot encoded vector for each label.\n",
    "    : x: List of sample Labels\n",
    "    : return: Numpy array of one-hot encoded labels\n",
    "    \"\"\"\n",
    "    mat=np.zeros([len(x),10])\n",
    "    for i in range(len(x)):\n",
    "        mat[i][x[i]]=1\n",
    "    return mat\n",
    "\n",
    "\n",
    "\"\"\"\n",
    "DON'T MODIFY ANYTHING IN THIS CELL THAT IS BELOW THIS LINE\n",
    "\"\"\"\n",
    "tests.test_one_hot_encode(one_hot_encode)"
   ]
  },
  {
   "cell_type": "markdown",
   "metadata": {
    "deletable": true,
    "editable": true
   },
   "source": [
    "### Randomize Data\n",
    "As you saw from exploring the data above, the order of the samples are randomized.  It doesn't hurt to randomize it again, but you don't need to for this dataset."
   ]
  },
  {
   "cell_type": "markdown",
   "metadata": {
    "deletable": true,
    "editable": true
   },
   "source": [
    "## Preprocess all the data and save it\n",
    "Running the code cell below will preprocess all the CIFAR-10 data and save it to file. The code below also uses 10% of the training data for validation."
   ]
  },
  {
   "cell_type": "code",
   "execution_count": 5,
   "metadata": {
    "collapsed": false,
    "deletable": true,
    "editable": true
   },
   "outputs": [],
   "source": [
    "\"\"\"\n",
    "DON'T MODIFY ANYTHING IN THIS CELL\n",
    "\"\"\"\n",
    "# Preprocess Training, Validation, and Testing Data\n",
    "helper.preprocess_and_save_data(cifar10_dataset_folder_path, normalize, one_hot_encode)"
   ]
  },
  {
   "cell_type": "markdown",
   "metadata": {
    "deletable": true,
    "editable": true
   },
   "source": [
    "# Check Point\n",
    "This is your first checkpoint.  If you ever decide to come back to this notebook or have to restart the notebook, you can start from here.  The preprocessed data has been saved to disk."
   ]
  },
  {
   "cell_type": "code",
   "execution_count": 1,
   "metadata": {
    "collapsed": true,
    "deletable": true,
    "editable": true
   },
   "outputs": [],
   "source": [
    "\"\"\"\n",
    "DON'T MODIFY ANYTHING IN THIS CELL\n",
    "\"\"\"\n",
    "import pickle\n",
    "import problem_unittests as tests\n",
    "import helper\n",
    "\n",
    "# Load the Preprocessed Validation data\n",
    "valid_features, valid_labels = pickle.load(open('preprocess_validation.p', mode='rb'))"
   ]
  },
  {
   "cell_type": "markdown",
   "metadata": {
    "deletable": true,
    "editable": true
   },
   "source": [
    "## Build the network\n",
    "For the neural network, you'll build each layer into a function.  Most of the code you've seen has been outside of functions. To test your code more thoroughly, we require that you put each layer in a function.  This allows us to give you better feedback and test for simple mistakes using our unittests before you submit your project.\n",
    "\n",
    ">**Note:** If you're finding it hard to dedicate enough time for this course each week, we've provided a small shortcut to this part of the project. In the next couple of problems, you'll have the option to use classes from the [TensorFlow Layers](https://www.tensorflow.org/api_docs/python/tf/layers) or [TensorFlow Layers (contrib)](https://www.tensorflow.org/api_guides/python/contrib.layers) packages to build each layer, except the layers you build in the \"Convolutional and Max Pooling Layer\" section.  TF Layers is similar to Keras's and TFLearn's abstraction to layers, so it's easy to pickup.\n",
    "\n",
    ">However, if you would like to get the most out of this course, try to solve all the problems _without_ using anything from the TF Layers packages. You **can** still use classes from other packages that happen to have the same name as ones you find in TF Layers! For example, instead of using the TF Layers version of the `conv2d` class, [tf.layers.conv2d](https://www.tensorflow.org/api_docs/python/tf/layers/conv2d), you would want to use the TF Neural Network version of `conv2d`, [tf.nn.conv2d](https://www.tensorflow.org/api_docs/python/tf/nn/conv2d). \n",
    "\n",
    "Let's begin!\n",
    "\n",
    "### Input\n",
    "The neural network needs to read the image data, one-hot encoded labels, and dropout keep probability. Implement the following functions\n",
    "* Implement `neural_net_image_input`\n",
    " * Return a [TF Placeholder](https://www.tensorflow.org/api_docs/python/tf/placeholder)\n",
    " * Set the shape using `image_shape` with batch size set to `None`.\n",
    " * Name the TensorFlow placeholder \"x\" using the TensorFlow `name` parameter in the [TF Placeholder](https://www.tensorflow.org/api_docs/python/tf/placeholder).\n",
    "* Implement `neural_net_label_input`\n",
    " * Return a [TF Placeholder](https://www.tensorflow.org/api_docs/python/tf/placeholder)\n",
    " * Set the shape using `n_classes` with batch size set to `None`.\n",
    " * Name the TensorFlow placeholder \"y\" using the TensorFlow `name` parameter in the [TF Placeholder](https://www.tensorflow.org/api_docs/python/tf/placeholder).\n",
    "* Implement `neural_net_keep_prob_input`\n",
    " * Return a [TF Placeholder](https://www.tensorflow.org/api_docs/python/tf/placeholder) for dropout keep probability.\n",
    " * Name the TensorFlow placeholder \"keep_prob\" using the TensorFlow `name` parameter in the [TF Placeholder](https://www.tensorflow.org/api_docs/python/tf/placeholder).\n",
    "\n",
    "These names will be used at the end of the project to load your saved model.\n",
    "\n",
    "Note: `None` for shapes in TensorFlow allow for a dynamic size."
   ]
  },
  {
   "cell_type": "code",
   "execution_count": 2,
   "metadata": {
    "collapsed": false,
    "deletable": true,
    "editable": true
   },
   "outputs": [
    {
     "name": "stdout",
     "output_type": "stream",
     "text": [
      "Image Input Tests Passed.\n",
      "Label Input Tests Passed.\n",
      "Keep Prob Tests Passed.\n"
     ]
    }
   ],
   "source": [
    "import tensorflow as tf\n",
    "\n",
    "def neural_net_image_input(image_shape):\n",
    "    \"\"\"\n",
    "    Return a Tensor for a bach of image input\n",
    "    : image_shape: Shape of the images\n",
    "    : return: Tensor for image input.\n",
    "    \"\"\"\n",
    "    return tf.placeholder(tf.float32, shape=[None]+list(image_shape[:]),name=\"x\")\n",
    "\n",
    "\n",
    "def neural_net_label_input(n_classes):\n",
    "    \"\"\"\n",
    "    Return a Tensor for a batch of label input\n",
    "    : n_classes: Number of classes\n",
    "    : return: Tensor for label input.\n",
    "    \"\"\"\n",
    "    return tf.placeholder(tf.float32, shape=[None,n_classes],name=\"y\")\n",
    "\n",
    "\n",
    "def neural_net_keep_prob_input():\n",
    "    \"\"\"\n",
    "    Return a Tensor for keep probability\n",
    "    : return: Tensor for keep probability.\n",
    "    \"\"\"\n",
    "    return tf.placeholder(tf.float32, name=\"keep_prob\")\n",
    "\n",
    "\n",
    "\"\"\"\n",
    "DON'T MODIFY ANYTHING IN THIS CELL THAT IS BELOW THIS LINE\n",
    "\"\"\"\n",
    "tf.reset_default_graph()\n",
    "tests.test_nn_image_inputs(neural_net_image_input)\n",
    "tests.test_nn_label_inputs(neural_net_label_input)\n",
    "tests.test_nn_keep_prob_inputs(neural_net_keep_prob_input)"
   ]
  },
  {
   "cell_type": "markdown",
   "metadata": {
    "deletable": true,
    "editable": true
   },
   "source": [
    "### Convolution and Max Pooling Layer\n",
    "Convolution layers have a lot of success with images. For this code cell, you should implement the function `conv2d_maxpool` to apply convolution then max pooling:\n",
    "* Create the weight and bias using `conv_ksize`, `conv_num_outputs` and the shape of `x_tensor`.\n",
    "* Apply a convolution to `x_tensor` using weight and `conv_strides`.\n",
    " * We recommend you use same padding, but you're welcome to use any padding.\n",
    "* Add bias\n",
    "* Add a nonlinear activation to the convolution.\n",
    "* Apply Max Pooling using `pool_ksize` and `pool_strides`.\n",
    " * We recommend you use same padding, but you're welcome to use any padding.\n",
    "\n",
    "**Note:** You **can't** use [TensorFlow Layers](https://www.tensorflow.org/api_docs/python/tf/layers) or [TensorFlow Layers (contrib)](https://www.tensorflow.org/api_guides/python/contrib.layers) for **this** layer, but you can still use TensorFlow's [Neural Network](https://www.tensorflow.org/api_docs/python/tf/nn) package. You may still use the shortcut option for all the **other** layers."
   ]
  },
  {
   "cell_type": "code",
   "execution_count": 3,
   "metadata": {
    "collapsed": false,
    "deletable": true,
    "editable": true
   },
   "outputs": [
    {
     "name": "stdout",
     "output_type": "stream",
     "text": [
      "Tests Passed\n"
     ]
    }
   ],
   "source": [
    "def conv2d_maxpool(x_tensor, conv_num_outputs, conv_ksize, conv_strides, pool_ksize, pool_strides):\n",
    "    \"\"\"\n",
    "    Apply convolution then max pooling to x_tensor\n",
    "    :param x_tensor: TensorFlow Tensor\n",
    "    :param conv_num_outputs: Number of outputs for the convolutional layer\n",
    "    :param conv_ksize: kernal size 2-D Tuple for the convolutional layer\n",
    "    :param conv_strides: Stride 2-D Tuple for convolution\n",
    "    :param pool_ksize: kernal size 2-D Tuple for pool\n",
    "    :param pool_strides: Stride 2-D Tuple for pool\n",
    "    : return: A tensor that represents convolution and max pooling of x_tensor\n",
    "    \"\"\"\n",
    "    weight = tf.Variable(tf.truncated_normal(tuple(list(conv_ksize)+[int(x_tensor.get_shape()[3])]+[conv_num_outputs]),stddev=1.0))\n",
    "    bias = tf.Variable(tf.zeros(conv_num_outputs))\n",
    "    conv_layer = tf.nn.conv2d(x_tensor, weight, [1]+list(conv_strides)+[1], padding='SAME')\n",
    "    conv_layer = tf.nn.bias_add(conv_layer, bias)\n",
    "    conv_layer = tf.nn.relu(conv_layer)\n",
    "    conv_layer = tf.nn.max_pool(conv_layer, [1]+list(pool_ksize)+[1], [1]+list(pool_strides)+[1], padding='SAME')\n",
    "    return conv_layer\n",
    "\n",
    "\n",
    "\"\"\"\n",
    "DON'T MODIFY ANYTHING IN THIS CELL THAT IS BELOW THIS LINE\n",
    "\"\"\"\n",
    "tests.test_con_pool(conv2d_maxpool)"
   ]
  },
  {
   "cell_type": "markdown",
   "metadata": {
    "deletable": true,
    "editable": true
   },
   "source": [
    "### Flatten Layer\n",
    "Implement the `flatten` function to change the dimension of `x_tensor` from a 4-D tensor to a 2-D tensor.  The output should be the shape (*Batch Size*, *Flattened Image Size*). Shortcut option: you can use classes from the [TensorFlow Layers](https://www.tensorflow.org/api_docs/python/tf/layers) or [TensorFlow Layers (contrib)](https://www.tensorflow.org/api_guides/python/contrib.layers) packages for this layer. For more of a challenge, only use other TensorFlow packages."
   ]
  },
  {
   "cell_type": "code",
   "execution_count": 4,
   "metadata": {
    "collapsed": false,
    "deletable": true,
    "editable": true
   },
   "outputs": [
    {
     "name": "stdout",
     "output_type": "stream",
     "text": [
      "Tests Passed\n"
     ]
    }
   ],
   "source": [
    "def flatten(x_tensor):\n",
    "    \"\"\"\n",
    "    Flatten x_tensor to (Batch Size, Flattened Image Size)\n",
    "    : x_tensor: A tensor of size (Batch Size, ...), where ... are the image dimensions.\n",
    "    : return: A tensor of size (Batch Size, Flattened Image Size).\n",
    "    \"\"\"\n",
    "    return tf.contrib.layers.flatten(x_tensor)\n",
    "\n",
    "\n",
    "\"\"\"\n",
    "DON'T MODIFY ANYTHING IN THIS CELL THAT IS BELOW THIS LINE\n",
    "\"\"\"\n",
    "tests.test_flatten(flatten)"
   ]
  },
  {
   "cell_type": "markdown",
   "metadata": {
    "deletable": true,
    "editable": true
   },
   "source": [
    "### Fully-Connected Layer\n",
    "Implement the `fully_conn` function to apply a fully connected layer to `x_tensor` with the shape (*Batch Size*, *num_outputs*). Shortcut option: you can use classes from the [TensorFlow Layers](https://www.tensorflow.org/api_docs/python/tf/layers) or [TensorFlow Layers (contrib)](https://www.tensorflow.org/api_guides/python/contrib.layers) packages for this layer. For more of a challenge, only use other TensorFlow packages."
   ]
  },
  {
   "cell_type": "code",
   "execution_count": 5,
   "metadata": {
    "collapsed": false,
    "deletable": true,
    "editable": true
   },
   "outputs": [
    {
     "name": "stdout",
     "output_type": "stream",
     "text": [
      "Tests Passed\n"
     ]
    }
   ],
   "source": [
    "def fully_conn(x_tensor, num_outputs):\n",
    "    \"\"\"\n",
    "    Apply a fully connected layer to x_tensor using weight and bias\n",
    "    : x_tensor: A 2-D tensor where the first dimension is batch size.\n",
    "    : num_outputs: The number of output that the new tensor should be.\n",
    "    : return: A 2-D tensor where the second dimension is num_outputs.\n",
    "    \"\"\"\n",
    "    # TODO: Implement Function\n",
    "    return tf.contrib.layers.fully_connected(x_tensor,num_outputs)\n",
    "\n",
    "\n",
    "\"\"\"\n",
    "DON'T MODIFY ANYTHING IN THIS CELL THAT IS BELOW THIS LINE\n",
    "\"\"\"\n",
    "tests.test_fully_conn(fully_conn)"
   ]
  },
  {
   "cell_type": "markdown",
   "metadata": {
    "deletable": true,
    "editable": true
   },
   "source": [
    "### Output Layer\n",
    "Implement the `output` function to apply a fully connected layer to `x_tensor` with the shape (*Batch Size*, *num_outputs*). Shortcut option: you can use classes from the [TensorFlow Layers](https://www.tensorflow.org/api_docs/python/tf/layers) or [TensorFlow Layers (contrib)](https://www.tensorflow.org/api_guides/python/contrib.layers) packages for this layer. For more of a challenge, only use other TensorFlow packages.\n",
    "\n",
    "**Note:** Activation, softmax, or cross entropy should **not** be applied to this."
   ]
  },
  {
   "cell_type": "code",
   "execution_count": 6,
   "metadata": {
    "collapsed": false,
    "deletable": true,
    "editable": true
   },
   "outputs": [
    {
     "name": "stdout",
     "output_type": "stream",
     "text": [
      "Tests Passed\n"
     ]
    }
   ],
   "source": [
    "def output(x_tensor, num_outputs):\n",
    "    \"\"\"\n",
    "    Apply a output layer to x_tensor using weight and bias\n",
    "    : x_tensor: A 2-D tensor where the first dimension is batch size.\n",
    "    : num_outputs: The number of output that the new tensor should be.\n",
    "    : return: A 2-D tensor where the second dimension is num_outputs.\n",
    "    \"\"\"\n",
    "    return tf.contrib.layers.fully_connected(x_tensor,num_outputs,activation_fn=None)\n",
    "\n",
    "\n",
    "\"\"\"\n",
    "DON'T MODIFY ANYTHING IN THIS CELL THAT IS BELOW THIS LINE\n",
    "\"\"\"\n",
    "tests.test_output(output)"
   ]
  },
  {
   "cell_type": "markdown",
   "metadata": {
    "deletable": true,
    "editable": true
   },
   "source": [
    "### Create Convolutional Model\n",
    "Implement the function `conv_net` to create a convolutional neural network model. The function takes in a batch of images, `x`, and outputs logits.  Use the layers you created above to create this model:\n",
    "\n",
    "* Apply 1, 2, or 3 Convolution and Max Pool layers\n",
    "* Apply a Flatten Layer\n",
    "* Apply 1, 2, or 3 Fully Connected Layers\n",
    "* Apply an Output Layer\n",
    "* Return the output\n",
    "* Apply [TensorFlow's Dropout](https://www.tensorflow.org/api_docs/python/tf/nn/dropout) to one or more layers in the model using `keep_prob`. "
   ]
  },
  {
   "cell_type": "code",
   "execution_count": 52,
   "metadata": {
    "collapsed": false,
    "deletable": true,
    "editable": true
   },
   "outputs": [
    {
     "name": "stdout",
     "output_type": "stream",
     "text": [
      "Neural Network Built!\n"
     ]
    }
   ],
   "source": [
    "def conv_net(x, keep_prob):\n",
    "    \"\"\"\n",
    "    Create a convolutional neural network model\n",
    "    : x: Placeholder tensor that holds image data.\n",
    "    : keep_prob: Placeholder tensor that hold dropout keep probability.\n",
    "    : return: Tensor that represents logits\n",
    "    \"\"\"\n",
    "    # TODO: Apply 1, 2, or 3 Convolution and Max Pool layers\n",
    "    #    Play around with different number of outputs, kernel size and stride\n",
    "    # Function Definition from Above:\n",
    "\n",
    "    hidden_layer=conv2d_maxpool(x, 8, (3,3), (1,1), (2,2), (2,2))\n",
    "    hidden_layer=conv2d_maxpool(hidden_layer, 16, (3,3), (1,1), (2,2), (2,2))\n",
    "    hidden_layer=conv2d_maxpool(hidden_layer, 32, (3,3), (1,1), (2,2), (2,2))\n",
    "    \n",
    "\n",
    "    # TODO: Apply a Flatten Layer\n",
    "    # Function Definition from Above:\n",
    "    # x_tensor=flatten(x_tensor)\n",
    "    \n",
    "\n",
    "    # TODO: Apply 1, 2, or 3 Fully Connected Layers\n",
    "    #    Play around with different number of outputs\n",
    "    # Function Definition from Above:\n",
    "    hidden_layer=flatten(hidden_layer)\n",
    "    hidden_layer=fully_conn(hidden_layer, 512)\n",
    "    \n",
    "    hidden_layer=tf.nn.dropout(hidden_layer, keep_prob)\n",
    "    hidden_layer=fully_conn(hidden_layer, 256)\n",
    "    \n",
    "    hidden_layer=tf.nn.dropout(hidden_layer, keep_prob)\n",
    "    hidden_layer=fully_conn(hidden_layer, 64)\n",
    "    # TODO: Apply an Output Layer\n",
    "    # Set this to the number of classes\n",
    "    # Function Definition from Above:\n",
    "    x_tensor=output(hidden_layer, 10)\n",
    "    \n",
    "    \n",
    "    # TODO: return output\n",
    "    return x_tensor\n",
    "\n",
    "\n",
    "\"\"\"\n",
    "DON'T MODIFY ANYTHING IN THIS CELL THAT IS BELOW THIS LINE\n",
    "\"\"\"\n",
    "\n",
    "##############################\n",
    "## Build the Neural Network ##\n",
    "##############################\n",
    "\n",
    "# Remove previous weights, bias, inputs, etc..\n",
    "tf.reset_default_graph()\n",
    "\n",
    "# Inputs\n",
    "x = neural_net_image_input((32, 32, 3))\n",
    "y = neural_net_label_input(10)\n",
    "keep_prob = neural_net_keep_prob_input()\n",
    "\n",
    "# Model\n",
    "logits = conv_net(x, keep_prob)\n",
    "\n",
    "# Name logits Tensor, so that is can be loaded from disk after training\n",
    "logits = tf.identity(logits, name='logits')\n",
    "\n",
    "# Loss and Optimizer\n",
    "cost = tf.reduce_mean(tf.nn.softmax_cross_entropy_with_logits(logits=logits, labels=y))\n",
    "optimizer = tf.train.AdamOptimizer().minimize(cost)\n",
    "\n",
    "# Accuracy\n",
    "correct_pred = tf.equal(tf.argmax(logits, 1), tf.argmax(y, 1))\n",
    "accuracy = tf.reduce_mean(tf.cast(correct_pred, tf.float32), name='accuracy')\n",
    "\n",
    "tests.test_conv_net(conv_net)"
   ]
  },
  {
   "cell_type": "markdown",
   "metadata": {
    "deletable": true,
    "editable": true
   },
   "source": [
    "## Train the Neural Network\n",
    "### Single Optimization\n",
    "Implement the function `train_neural_network` to do a single optimization.  The optimization should use `optimizer` to optimize in `session` with a `feed_dict` of the following:\n",
    "* `x` for image input\n",
    "* `y` for labels\n",
    "* `keep_prob` for keep probability for dropout\n",
    "\n",
    "This function will be called for each batch, so `tf.global_variables_initializer()` has already been called.\n",
    "\n",
    "Note: Nothing needs to be returned. This function is only optimizing the neural network."
   ]
  },
  {
   "cell_type": "code",
   "execution_count": 53,
   "metadata": {
    "collapsed": false,
    "deletable": true,
    "editable": true
   },
   "outputs": [
    {
     "name": "stdout",
     "output_type": "stream",
     "text": [
      "Tests Passed\n"
     ]
    }
   ],
   "source": [
    "def train_neural_network(session, optimizer, keep_probability, feature_batch, label_batch):\n",
    "    \"\"\"\n",
    "    Optimize the session on a batch of images and labels\n",
    "    : session: Current TensorFlow session\n",
    "    : optimizer: TensorFlow optimizer function\n",
    "    : keep_probability: keep probability\n",
    "    : feature_batch: Batch of Numpy image data\n",
    "    : label_batch: Batch of Numpy label data\n",
    "    \"\"\"\n",
    "    session.run(optimizer, feed_dict={x : feature_batch, y : label_batch, keep_prob : keep_probability})\n",
    "\n",
    "\n",
    "\n",
    "\"\"\"\n",
    "DON'T MODIFY ANYTHING IN THIS CELL THAT IS BELOW THIS LINE\n",
    "\"\"\"\n",
    "tests.test_train_nn(train_neural_network)"
   ]
  },
  {
   "cell_type": "markdown",
   "metadata": {
    "deletable": true,
    "editable": true
   },
   "source": [
    "### Show Stats\n",
    "Implement the function `print_stats` to print loss and validation accuracy.  Use the global variables `valid_features` and `valid_labels` to calculate validation accuracy.  Use a keep probability of `1.0` to calculate the loss and validation accuracy."
   ]
  },
  {
   "cell_type": "code",
   "execution_count": 54,
   "metadata": {
    "collapsed": false,
    "deletable": true,
    "editable": true
   },
   "outputs": [],
   "source": [
    "def print_stats(session, feature_batch, label_batch, cost, accuracy):\n",
    "    \"\"\"\n",
    "    Print information about loss and validation accuracy\n",
    "    : session: Current TensorFlow session\n",
    "    : feature_batch: Batch of Numpy image data\n",
    "    : label_batch: Batch of Numpy label data\n",
    "    : cost: TensorFlow cost function\n",
    "    : accuracy: TensorFlow accuracy function\n",
    "    \"\"\"\n",
    "    current_cost = session.run(\n",
    "        cost,\n",
    "        feed_dict={x: feature_batch, y: label_batch , keep_prob : 1.0})\n",
    "    valid_accuracy = session.run(\n",
    "        accuracy,\n",
    "        feed_dict={x: valid_features, y: valid_labels , keep_prob : 1.0})\n",
    "    print('Cost: {:<8.3} Valid Accuracy: {:<5.3}'.format(\n",
    "        current_cost,\n",
    "        valid_accuracy))"
   ]
  },
  {
   "cell_type": "markdown",
   "metadata": {
    "deletable": true,
    "editable": true
   },
   "source": [
    "### Hyperparameters\n",
    "Tune the following parameters:\n",
    "* Set `epochs` to the number of iterations until the network stops learning or start overfitting\n",
    "* Set `batch_size` to the highest number that your machine has memory for.  Most people set them to common sizes of memory:\n",
    " * 64\n",
    " * 128\n",
    " * 256\n",
    " * ...\n",
    "* Set `keep_probability` to the probability of keeping a node using dropout"
   ]
  },
  {
   "cell_type": "code",
   "execution_count": 64,
   "metadata": {
    "collapsed": true,
    "deletable": true,
    "editable": true
   },
   "outputs": [],
   "source": [
    "# TODO: Tune Parameters\n",
    "epochs = 80\n",
    "batch_size = 128\n",
    "keep_probability = 0.62"
   ]
  },
  {
   "cell_type": "markdown",
   "metadata": {
    "deletable": true,
    "editable": true
   },
   "source": [
    "### Train on a Single CIFAR-10 Batch\n",
    "Instead of training the neural network on all the CIFAR-10 batches of data, let's use a single batch. This should save time while you iterate on the model to get a better accuracy.  Once the final validation accuracy is 50% or greater, run the model on all the data in the next section."
   ]
  },
  {
   "cell_type": "code",
   "execution_count": 65,
   "metadata": {
    "collapsed": false,
    "deletable": true,
    "editable": true
   },
   "outputs": [
    {
     "name": "stdout",
     "output_type": "stream",
     "text": [
      "Checking the Training on a Single Batch...\n",
      "Epoch  1, CIFAR-10 Batch 1:  Cost: 2.31     Valid Accuracy: 0.0978\n",
      "Epoch  2, CIFAR-10 Batch 1:  Cost: 2.31     Valid Accuracy: 0.119\n",
      "Epoch  3, CIFAR-10 Batch 1:  Cost: 2.28     Valid Accuracy: 0.138\n",
      "Epoch  4, CIFAR-10 Batch 1:  Cost: 2.27     Valid Accuracy: 0.163\n",
      "Epoch  5, CIFAR-10 Batch 1:  Cost: 2.21     Valid Accuracy: 0.166\n",
      "Epoch  6, CIFAR-10 Batch 1:  Cost: 2.25     Valid Accuracy: 0.166\n",
      "Epoch  7, CIFAR-10 Batch 1:  Cost: 2.21     Valid Accuracy: 0.182\n",
      "Epoch  8, CIFAR-10 Batch 1:  Cost: 2.19     Valid Accuracy: 0.214\n",
      "Epoch  9, CIFAR-10 Batch 1:  Cost: 2.1      Valid Accuracy: 0.227\n",
      "Epoch 10, CIFAR-10 Batch 1:  Cost: 2.13     Valid Accuracy: 0.224\n",
      "Epoch 11, CIFAR-10 Batch 1:  Cost: 2.06     Valid Accuracy: 0.258\n",
      "Epoch 12, CIFAR-10 Batch 1:  Cost: 2.03     Valid Accuracy: 0.253\n",
      "Epoch 13, CIFAR-10 Batch 1:  Cost: 2.0      Valid Accuracy: 0.265\n",
      "Epoch 14, CIFAR-10 Batch 1:  Cost: 1.91     Valid Accuracy: 0.28 \n",
      "Epoch 15, CIFAR-10 Batch 1:  Cost: 1.87     Valid Accuracy: 0.311\n",
      "Epoch 16, CIFAR-10 Batch 1:  Cost: 1.88     Valid Accuracy: 0.297\n",
      "Epoch 17, CIFAR-10 Batch 1:  Cost: 1.77     Valid Accuracy: 0.338\n",
      "Epoch 18, CIFAR-10 Batch 1:  Cost: 1.79     Valid Accuracy: 0.341\n",
      "Epoch 19, CIFAR-10 Batch 1:  Cost: 1.77     Valid Accuracy: 0.354\n",
      "Epoch 20, CIFAR-10 Batch 1:  Cost: 1.75     Valid Accuracy: 0.362\n",
      "Epoch 21, CIFAR-10 Batch 1:  Cost: 1.69     Valid Accuracy: 0.384\n",
      "Epoch 22, CIFAR-10 Batch 1:  Cost: 1.64     Valid Accuracy: 0.371\n",
      "Epoch 23, CIFAR-10 Batch 1:  Cost: 1.63     Valid Accuracy: 0.375\n",
      "Epoch 24, CIFAR-10 Batch 1:  Cost: 1.59     Valid Accuracy: 0.389\n",
      "Epoch 25, CIFAR-10 Batch 1:  Cost: 1.63     Valid Accuracy: 0.384\n",
      "Epoch 26, CIFAR-10 Batch 1:  Cost: 1.61     Valid Accuracy: 0.395\n",
      "Epoch 27, CIFAR-10 Batch 1:  Cost: 1.53     Valid Accuracy: 0.397\n",
      "Epoch 28, CIFAR-10 Batch 1:  Cost: 1.48     Valid Accuracy: 0.401\n",
      "Epoch 29, CIFAR-10 Batch 1:  Cost: 1.46     Valid Accuracy: 0.411\n",
      "Epoch 30, CIFAR-10 Batch 1:  Cost: 1.42     Valid Accuracy: 0.416\n",
      "Epoch 31, CIFAR-10 Batch 1:  Cost: 1.38     Valid Accuracy: 0.424\n",
      "Epoch 32, CIFAR-10 Batch 1:  Cost: 1.32     Valid Accuracy: 0.427\n",
      "Epoch 33, CIFAR-10 Batch 1:  Cost: 1.27     Valid Accuracy: 0.434\n",
      "Epoch 34, CIFAR-10 Batch 1:  Cost: 1.23     Valid Accuracy: 0.439\n",
      "Epoch 35, CIFAR-10 Batch 1:  Cost: 1.31     Valid Accuracy: 0.42 \n",
      "Epoch 36, CIFAR-10 Batch 1:  Cost: 1.2      Valid Accuracy: 0.446\n",
      "Epoch 37, CIFAR-10 Batch 1:  Cost: 1.21     Valid Accuracy: 0.439\n",
      "Epoch 38, CIFAR-10 Batch 1:  Cost: 1.16     Valid Accuracy: 0.448\n",
      "Epoch 39, CIFAR-10 Batch 1:  Cost: 1.12     Valid Accuracy: 0.442\n",
      "Epoch 40, CIFAR-10 Batch 1:  Cost: 1.1      Valid Accuracy: 0.445\n",
      "Epoch 41, CIFAR-10 Batch 1:  Cost: 1.09     Valid Accuracy: 0.447\n",
      "Epoch 42, CIFAR-10 Batch 1:  Cost: 1.08     Valid Accuracy: 0.46 \n",
      "Epoch 43, CIFAR-10 Batch 1:  Cost: 1.03     Valid Accuracy: 0.463\n",
      "Epoch 44, CIFAR-10 Batch 1:  Cost: 1.01     Valid Accuracy: 0.471\n",
      "Epoch 45, CIFAR-10 Batch 1:  Cost: 1.02     Valid Accuracy: 0.463\n",
      "Epoch 46, CIFAR-10 Batch 1:  Cost: 0.941    Valid Accuracy: 0.462\n",
      "Epoch 47, CIFAR-10 Batch 1:  Cost: 0.986    Valid Accuracy: 0.464\n",
      "Epoch 48, CIFAR-10 Batch 1:  Cost: 0.893    Valid Accuracy: 0.47 \n",
      "Epoch 49, CIFAR-10 Batch 1:  Cost: 0.91     Valid Accuracy: 0.475\n",
      "Epoch 50, CIFAR-10 Batch 1:  Cost: 0.869    Valid Accuracy: 0.469\n",
      "Epoch 51, CIFAR-10 Batch 1:  Cost: 0.808    Valid Accuracy: 0.477\n",
      "Epoch 52, CIFAR-10 Batch 1:  Cost: 0.869    Valid Accuracy: 0.472\n",
      "Epoch 53, CIFAR-10 Batch 1:  Cost: 0.796    Valid Accuracy: 0.477\n",
      "Epoch 54, CIFAR-10 Batch 1:  Cost: 0.741    Valid Accuracy: 0.485\n",
      "Epoch 55, CIFAR-10 Batch 1:  Cost: 0.81     Valid Accuracy: 0.473\n",
      "Epoch 56, CIFAR-10 Batch 1:  Cost: 0.774    Valid Accuracy: 0.473\n",
      "Epoch 57, CIFAR-10 Batch 1:  Cost: 0.739    Valid Accuracy: 0.485\n",
      "Epoch 58, CIFAR-10 Batch 1:  Cost: 0.766    Valid Accuracy: 0.476\n",
      "Epoch 59, CIFAR-10 Batch 1:  Cost: 0.72     Valid Accuracy: 0.49 \n",
      "Epoch 60, CIFAR-10 Batch 1:  Cost: 0.68     Valid Accuracy: 0.484\n",
      "Epoch 61, CIFAR-10 Batch 1:  Cost: 0.701    Valid Accuracy: 0.492\n",
      "Epoch 62, CIFAR-10 Batch 1:  Cost: 0.624    Valid Accuracy: 0.497\n",
      "Epoch 63, CIFAR-10 Batch 1:  Cost: 0.573    Valid Accuracy: 0.49 \n",
      "Epoch 64, CIFAR-10 Batch 1:  Cost: 0.554    Valid Accuracy: 0.495\n",
      "Epoch 65, CIFAR-10 Batch 1:  Cost: 0.592    Valid Accuracy: 0.488\n",
      "Epoch 66, CIFAR-10 Batch 1:  Cost: 0.554    Valid Accuracy: 0.482\n",
      "Epoch 67, CIFAR-10 Batch 1:  Cost: 0.507    Valid Accuracy: 0.495\n",
      "Epoch 68, CIFAR-10 Batch 1:  Cost: 0.49     Valid Accuracy: 0.492\n",
      "Epoch 69, CIFAR-10 Batch 1:  Cost: 0.498    Valid Accuracy: 0.496\n",
      "Epoch 70, CIFAR-10 Batch 1:  Cost: 0.478    Valid Accuracy: 0.492\n",
      "Epoch 71, CIFAR-10 Batch 1:  Cost: 0.427    Valid Accuracy: 0.485\n",
      "Epoch 72, CIFAR-10 Batch 1:  Cost: 0.44     Valid Accuracy: 0.485\n",
      "Epoch 73, CIFAR-10 Batch 1:  Cost: 0.372    Valid Accuracy: 0.499\n",
      "Epoch 74, CIFAR-10 Batch 1:  Cost: 0.382    Valid Accuracy: 0.494\n",
      "Epoch 75, CIFAR-10 Batch 1:  Cost: 0.387    Valid Accuracy: 0.491\n",
      "Epoch 76, CIFAR-10 Batch 1:  Cost: 0.347    Valid Accuracy: 0.496\n",
      "Epoch 77, CIFAR-10 Batch 1:  Cost: 0.308    Valid Accuracy: 0.501\n",
      "Epoch 78, CIFAR-10 Batch 1:  Cost: 0.318    Valid Accuracy: 0.491\n",
      "Epoch 79, CIFAR-10 Batch 1:  Cost: 0.333    Valid Accuracy: 0.49 \n",
      "Epoch 80, CIFAR-10 Batch 1:  Cost: 0.287    Valid Accuracy: 0.501\n"
     ]
    }
   ],
   "source": [
    "\"\"\"\n",
    "DON'T MODIFY ANYTHING IN THIS CELL\n",
    "\"\"\"\n",
    "print('Checking the Training on a Single Batch...')\n",
    "with tf.Session() as sess:\n",
    "    # Initializing the variables\n",
    "    sess.run(tf.global_variables_initializer())\n",
    "    \n",
    "    # Training cycle\n",
    "    for epoch in range(epochs):\n",
    "        batch_i = 1\n",
    "        for batch_features, batch_labels in helper.load_preprocess_training_batch(batch_i, batch_size):\n",
    "            train_neural_network(sess, optimizer, keep_probability, batch_features, batch_labels)\n",
    "        print('Epoch {:>2}, CIFAR-10 Batch {}:  '.format(epoch + 1, batch_i), end='')\n",
    "        print_stats(sess, batch_features, batch_labels, cost, accuracy)"
   ]
  },
  {
   "cell_type": "markdown",
   "metadata": {
    "deletable": true,
    "editable": true
   },
   "source": [
    "### Fully Train the Model\n",
    "Now that you got a good accuracy with a single CIFAR-10 batch, try it with all five batches."
   ]
  },
  {
   "cell_type": "code",
   "execution_count": 67,
   "metadata": {
    "collapsed": false,
    "deletable": true,
    "editable": true
   },
   "outputs": [
    {
     "name": "stdout",
     "output_type": "stream",
     "text": [
      "Training...\n",
      "Epoch  1, CIFAR-10 Batch 1:  Cost: 2.27     Valid Accuracy: 0.138\n",
      "Epoch  1, CIFAR-10 Batch 2:  Cost: 2.3      Valid Accuracy: 0.147\n",
      "Epoch  1, CIFAR-10 Batch 3:  Cost: 2.26     Valid Accuracy: 0.132\n",
      "Epoch  1, CIFAR-10 Batch 4:  Cost: 2.24     Valid Accuracy: 0.181\n",
      "Epoch  1, CIFAR-10 Batch 5:  Cost: 2.21     Valid Accuracy: 0.178\n",
      "Epoch  2, CIFAR-10 Batch 1:  Cost: 2.25     Valid Accuracy: 0.215\n",
      "Epoch  2, CIFAR-10 Batch 2:  Cost: 2.17     Valid Accuracy: 0.218\n",
      "Epoch  2, CIFAR-10 Batch 3:  Cost: 2.08     Valid Accuracy: 0.227\n",
      "Epoch  2, CIFAR-10 Batch 4:  Cost: 2.0      Valid Accuracy: 0.241\n",
      "Epoch  2, CIFAR-10 Batch 5:  Cost: 2.03     Valid Accuracy: 0.238\n",
      "Epoch  3, CIFAR-10 Batch 1:  Cost: 2.26     Valid Accuracy: 0.267\n",
      "Epoch  3, CIFAR-10 Batch 2:  Cost: 1.94     Valid Accuracy: 0.281\n",
      "Epoch  3, CIFAR-10 Batch 3:  Cost: 1.8      Valid Accuracy: 0.284\n",
      "Epoch  3, CIFAR-10 Batch 4:  Cost: 1.76     Valid Accuracy: 0.289\n",
      "Epoch  3, CIFAR-10 Batch 5:  Cost: 1.93     Valid Accuracy: 0.267\n",
      "Epoch  4, CIFAR-10 Batch 1:  Cost: 2.17     Valid Accuracy: 0.284\n",
      "Epoch  4, CIFAR-10 Batch 2:  Cost: 1.87     Valid Accuracy: 0.297\n",
      "Epoch  4, CIFAR-10 Batch 3:  Cost: 1.76     Valid Accuracy: 0.3  \n",
      "Epoch  4, CIFAR-10 Batch 4:  Cost: 1.7      Valid Accuracy: 0.264\n",
      "Epoch  4, CIFAR-10 Batch 5:  Cost: 1.86     Valid Accuracy: 0.304\n",
      "Epoch  5, CIFAR-10 Batch 1:  Cost: 2.06     Valid Accuracy: 0.306\n",
      "Epoch  5, CIFAR-10 Batch 2:  Cost: 1.84     Valid Accuracy: 0.312\n",
      "Epoch  5, CIFAR-10 Batch 3:  Cost: 1.73     Valid Accuracy: 0.307\n",
      "Epoch  5, CIFAR-10 Batch 4:  Cost: 1.6      Valid Accuracy: 0.315\n",
      "Epoch  5, CIFAR-10 Batch 5:  Cost: 1.77     Valid Accuracy: 0.322\n",
      "Epoch  6, CIFAR-10 Batch 1:  Cost: 2.04     Valid Accuracy: 0.335\n",
      "Epoch  6, CIFAR-10 Batch 2:  Cost: 1.81     Valid Accuracy: 0.336\n",
      "Epoch  6, CIFAR-10 Batch 3:  Cost: 1.75     Valid Accuracy: 0.323\n",
      "Epoch  6, CIFAR-10 Batch 4:  Cost: 1.63     Valid Accuracy: 0.335\n",
      "Epoch  6, CIFAR-10 Batch 5:  Cost: 1.82     Valid Accuracy: 0.356\n",
      "Epoch  7, CIFAR-10 Batch 1:  Cost: 1.99     Valid Accuracy: 0.339\n",
      "Epoch  7, CIFAR-10 Batch 2:  Cost: 1.73     Valid Accuracy: 0.326\n",
      "Epoch  7, CIFAR-10 Batch 3:  Cost: 1.68     Valid Accuracy: 0.34 \n",
      "Epoch  7, CIFAR-10 Batch 4:  Cost: 1.62     Valid Accuracy: 0.34 \n",
      "Epoch  7, CIFAR-10 Batch 5:  Cost: 1.73     Valid Accuracy: 0.371\n",
      "Epoch  8, CIFAR-10 Batch 1:  Cost: 1.94     Valid Accuracy: 0.37 \n",
      "Epoch  8, CIFAR-10 Batch 2:  Cost: 1.72     Valid Accuracy: 0.361\n",
      "Epoch  8, CIFAR-10 Batch 3:  Cost: 1.59     Valid Accuracy: 0.365\n",
      "Epoch  8, CIFAR-10 Batch 4:  Cost: 1.6      Valid Accuracy: 0.38 \n",
      "Epoch  8, CIFAR-10 Batch 5:  Cost: 1.73     Valid Accuracy: 0.365\n",
      "Epoch  9, CIFAR-10 Batch 1:  Cost: 1.88     Valid Accuracy: 0.388\n",
      "Epoch  9, CIFAR-10 Batch 2:  Cost: 1.67     Valid Accuracy: 0.354\n",
      "Epoch  9, CIFAR-10 Batch 3:  Cost: 1.63     Valid Accuracy: 0.376\n",
      "Epoch  9, CIFAR-10 Batch 4:  Cost: 1.56     Valid Accuracy: 0.399\n",
      "Epoch  9, CIFAR-10 Batch 5:  Cost: 1.68     Valid Accuracy: 0.371\n",
      "Epoch 10, CIFAR-10 Batch 1:  Cost: 1.85     Valid Accuracy: 0.402\n",
      "Epoch 10, CIFAR-10 Batch 2:  Cost: 1.57     Valid Accuracy: 0.393\n",
      "Epoch 10, CIFAR-10 Batch 3:  Cost: 1.54     Valid Accuracy: 0.376\n",
      "Epoch 10, CIFAR-10 Batch 4:  Cost: 1.48     Valid Accuracy: 0.401\n",
      "Epoch 10, CIFAR-10 Batch 5:  Cost: 1.68     Valid Accuracy: 0.398\n",
      "Epoch 11, CIFAR-10 Batch 1:  Cost: 1.81     Valid Accuracy: 0.412\n",
      "Epoch 11, CIFAR-10 Batch 2:  Cost: 1.62     Valid Accuracy: 0.408\n",
      "Epoch 11, CIFAR-10 Batch 3:  Cost: 1.53     Valid Accuracy: 0.408\n",
      "Epoch 11, CIFAR-10 Batch 4:  Cost: 1.48     Valid Accuracy: 0.407\n",
      "Epoch 11, CIFAR-10 Batch 5:  Cost: 1.57     Valid Accuracy: 0.404\n",
      "Epoch 12, CIFAR-10 Batch 1:  Cost: 1.77     Valid Accuracy: 0.435\n",
      "Epoch 12, CIFAR-10 Batch 2:  Cost: 1.56     Valid Accuracy: 0.412\n",
      "Epoch 12, CIFAR-10 Batch 3:  Cost: 1.49     Valid Accuracy: 0.421\n",
      "Epoch 12, CIFAR-10 Batch 4:  Cost: 1.47     Valid Accuracy: 0.417\n",
      "Epoch 12, CIFAR-10 Batch 5:  Cost: 1.53     Valid Accuracy: 0.429\n",
      "Epoch 13, CIFAR-10 Batch 1:  Cost: 1.73     Valid Accuracy: 0.448\n",
      "Epoch 13, CIFAR-10 Batch 2:  Cost: 1.5      Valid Accuracy: 0.435\n",
      "Epoch 13, CIFAR-10 Batch 3:  Cost: 1.47     Valid Accuracy: 0.428\n",
      "Epoch 13, CIFAR-10 Batch 4:  Cost: 1.39     Valid Accuracy: 0.429\n",
      "Epoch 13, CIFAR-10 Batch 5:  Cost: 1.48     Valid Accuracy: 0.44 \n",
      "Epoch 14, CIFAR-10 Batch 1:  Cost: 1.66     Valid Accuracy: 0.452\n",
      "Epoch 14, CIFAR-10 Batch 2:  Cost: 1.47     Valid Accuracy: 0.45 \n",
      "Epoch 14, CIFAR-10 Batch 3:  Cost: 1.43     Valid Accuracy: 0.447\n",
      "Epoch 14, CIFAR-10 Batch 4:  Cost: 1.39     Valid Accuracy: 0.454\n",
      "Epoch 14, CIFAR-10 Batch 5:  Cost: 1.4      Valid Accuracy: 0.455\n",
      "Epoch 15, CIFAR-10 Batch 1:  Cost: 1.64     Valid Accuracy: 0.47 \n",
      "Epoch 15, CIFAR-10 Batch 2:  Cost: 1.47     Valid Accuracy: 0.454\n",
      "Epoch 15, CIFAR-10 Batch 3:  Cost: 1.38     Valid Accuracy: 0.472\n",
      "Epoch 15, CIFAR-10 Batch 4:  Cost: 1.4      Valid Accuracy: 0.46 \n",
      "Epoch 15, CIFAR-10 Batch 5:  Cost: 1.43     Valid Accuracy: 0.46 \n",
      "Epoch 16, CIFAR-10 Batch 1:  Cost: 1.61     Valid Accuracy: 0.478\n",
      "Epoch 16, CIFAR-10 Batch 2:  Cost: 1.42     Valid Accuracy: 0.468\n",
      "Epoch 16, CIFAR-10 Batch 3:  Cost: 1.37     Valid Accuracy: 0.474\n",
      "Epoch 16, CIFAR-10 Batch 4:  Cost: 1.38     Valid Accuracy: 0.473\n",
      "Epoch 16, CIFAR-10 Batch 5:  Cost: 1.36     Valid Accuracy: 0.469\n",
      "Epoch 17, CIFAR-10 Batch 1:  Cost: 1.55     Valid Accuracy: 0.489\n",
      "Epoch 17, CIFAR-10 Batch 2:  Cost: 1.38     Valid Accuracy: 0.475\n",
      "Epoch 17, CIFAR-10 Batch 3:  Cost: 1.34     Valid Accuracy: 0.482\n",
      "Epoch 17, CIFAR-10 Batch 4:  Cost: 1.3      Valid Accuracy: 0.475\n",
      "Epoch 17, CIFAR-10 Batch 5:  Cost: 1.34     Valid Accuracy: 0.477\n",
      "Epoch 18, CIFAR-10 Batch 1:  Cost: 1.48     Valid Accuracy: 0.472\n",
      "Epoch 18, CIFAR-10 Batch 2:  Cost: 1.33     Valid Accuracy: 0.48 \n",
      "Epoch 18, CIFAR-10 Batch 3:  Cost: 1.4      Valid Accuracy: 0.457\n",
      "Epoch 18, CIFAR-10 Batch 4:  Cost: 1.28     Valid Accuracy: 0.488\n",
      "Epoch 18, CIFAR-10 Batch 5:  Cost: 1.31     Valid Accuracy: 0.48 \n",
      "Epoch 19, CIFAR-10 Batch 1:  Cost: 1.49     Valid Accuracy: 0.487\n",
      "Epoch 19, CIFAR-10 Batch 2:  Cost: 1.35     Valid Accuracy: 0.502\n",
      "Epoch 19, CIFAR-10 Batch 3:  Cost: 1.29     Valid Accuracy: 0.502\n",
      "Epoch 19, CIFAR-10 Batch 4:  Cost: 1.25     Valid Accuracy: 0.498\n",
      "Epoch 19, CIFAR-10 Batch 5:  Cost: 1.27     Valid Accuracy: 0.496\n",
      "Epoch 20, CIFAR-10 Batch 1:  Cost: 1.46     Valid Accuracy: 0.497\n",
      "Epoch 20, CIFAR-10 Batch 2:  Cost: 1.33     Valid Accuracy: 0.5  \n",
      "Epoch 20, CIFAR-10 Batch 3:  Cost: 1.28     Valid Accuracy: 0.501\n",
      "Epoch 20, CIFAR-10 Batch 4:  Cost: 1.28     Valid Accuracy: 0.499\n",
      "Epoch 20, CIFAR-10 Batch 5:  Cost: 1.23     Valid Accuracy: 0.512\n",
      "Epoch 21, CIFAR-10 Batch 1:  Cost: 1.44     Valid Accuracy: 0.507\n",
      "Epoch 21, CIFAR-10 Batch 2:  Cost: 1.29     Valid Accuracy: 0.5  \n",
      "Epoch 21, CIFAR-10 Batch 3:  Cost: 1.26     Valid Accuracy: 0.499\n",
      "Epoch 21, CIFAR-10 Batch 4:  Cost: 1.23     Valid Accuracy: 0.506\n",
      "Epoch 21, CIFAR-10 Batch 5:  Cost: 1.25     Valid Accuracy: 0.499\n",
      "Epoch 22, CIFAR-10 Batch 1:  Cost: 1.39     Valid Accuracy: 0.511\n",
      "Epoch 22, CIFAR-10 Batch 2:  Cost: 1.23     Valid Accuracy: 0.507\n",
      "Epoch 22, CIFAR-10 Batch 3:  Cost: 1.24     Valid Accuracy: 0.505\n",
      "Epoch 22, CIFAR-10 Batch 4:  Cost: 1.2      Valid Accuracy: 0.52 \n",
      "Epoch 22, CIFAR-10 Batch 5:  Cost: 1.22     Valid Accuracy: 0.511\n",
      "Epoch 23, CIFAR-10 Batch 1:  Cost: 1.41     Valid Accuracy: 0.523\n",
      "Epoch 23, CIFAR-10 Batch 2:  Cost: 1.21     Valid Accuracy: 0.509\n",
      "Epoch 23, CIFAR-10 Batch 3:  Cost: 1.24     Valid Accuracy: 0.515\n",
      "Epoch 23, CIFAR-10 Batch 4:  Cost: 1.27     Valid Accuracy: 0.52 \n",
      "Epoch 23, CIFAR-10 Batch 5:  Cost: 1.23     Valid Accuracy: 0.521\n",
      "Epoch 24, CIFAR-10 Batch 1:  Cost: 1.37     Valid Accuracy: 0.518\n",
      "Epoch 24, CIFAR-10 Batch 2:  Cost: 1.22     Valid Accuracy: 0.511\n",
      "Epoch 24, CIFAR-10 Batch 3:  Cost: 1.22     Valid Accuracy: 0.496\n",
      "Epoch 24, CIFAR-10 Batch 4:  Cost: 1.21     Valid Accuracy: 0.518\n",
      "Epoch 24, CIFAR-10 Batch 5:  Cost: 1.22     Valid Accuracy: 0.524\n",
      "Epoch 25, CIFAR-10 Batch 1:  Cost: 1.34     Valid Accuracy: 0.518\n",
      "Epoch 25, CIFAR-10 Batch 2:  Cost: 1.17     Valid Accuracy: 0.513\n",
      "Epoch 25, CIFAR-10 Batch 3:  Cost: 1.22     Valid Accuracy: 0.514\n",
      "Epoch 25, CIFAR-10 Batch 4:  Cost: 1.19     Valid Accuracy: 0.519\n",
      "Epoch 25, CIFAR-10 Batch 5:  Cost: 1.22     Valid Accuracy: 0.519\n",
      "Epoch 26, CIFAR-10 Batch 1:  Cost: 1.33     Valid Accuracy: 0.525\n",
      "Epoch 26, CIFAR-10 Batch 2:  Cost: 1.16     Valid Accuracy: 0.524\n",
      "Epoch 26, CIFAR-10 Batch 3:  Cost: 1.18     Valid Accuracy: 0.518\n",
      "Epoch 26, CIFAR-10 Batch 4:  Cost: 1.18     Valid Accuracy: 0.523\n",
      "Epoch 26, CIFAR-10 Batch 5:  Cost: 1.19     Valid Accuracy: 0.527\n",
      "Epoch 27, CIFAR-10 Batch 1:  Cost: 1.3      Valid Accuracy: 0.527\n",
      "Epoch 27, CIFAR-10 Batch 2:  Cost: 1.15     Valid Accuracy: 0.527\n",
      "Epoch 27, CIFAR-10 Batch 3:  Cost: 1.13     Valid Accuracy: 0.517\n",
      "Epoch 27, CIFAR-10 Batch 4:  Cost: 1.16     Valid Accuracy: 0.516\n",
      "Epoch 27, CIFAR-10 Batch 5:  Cost: 1.18     Valid Accuracy: 0.529\n",
      "Epoch 28, CIFAR-10 Batch 1:  Cost: 1.27     Valid Accuracy: 0.534\n",
      "Epoch 28, CIFAR-10 Batch 2:  Cost: 1.15     Valid Accuracy: 0.529\n",
      "Epoch 28, CIFAR-10 Batch 3:  Cost: 1.2      Valid Accuracy: 0.529\n",
      "Epoch 28, CIFAR-10 Batch 4:  Cost: 1.12     Valid Accuracy: 0.535\n",
      "Epoch 28, CIFAR-10 Batch 5:  Cost: 1.17     Valid Accuracy: 0.53 \n",
      "Epoch 29, CIFAR-10 Batch 1:  Cost: 1.28     Valid Accuracy: 0.536\n",
      "Epoch 29, CIFAR-10 Batch 2:  Cost: 1.11     Valid Accuracy: 0.533\n",
      "Epoch 29, CIFAR-10 Batch 3:  Cost: 1.14     Valid Accuracy: 0.52 \n",
      "Epoch 29, CIFAR-10 Batch 4:  Cost: 1.1      Valid Accuracy: 0.541\n",
      "Epoch 29, CIFAR-10 Batch 5:  Cost: 1.16     Valid Accuracy: 0.533\n",
      "Epoch 30, CIFAR-10 Batch 1:  Cost: 1.26     Valid Accuracy: 0.546\n",
      "Epoch 30, CIFAR-10 Batch 2:  Cost: 1.16     Valid Accuracy: 0.541\n",
      "Epoch 30, CIFAR-10 Batch 3:  Cost: 1.11     Valid Accuracy: 0.538\n",
      "Epoch 30, CIFAR-10 Batch 4:  Cost: 1.09     Valid Accuracy: 0.538\n",
      "Epoch 30, CIFAR-10 Batch 5:  Cost: 1.14     Valid Accuracy: 0.544\n",
      "Epoch 31, CIFAR-10 Batch 1:  Cost: 1.23     Valid Accuracy: 0.542\n",
      "Epoch 31, CIFAR-10 Batch 2:  Cost: 1.09     Valid Accuracy: 0.546\n",
      "Epoch 31, CIFAR-10 Batch 3:  Cost: 1.12     Valid Accuracy: 0.537\n",
      "Epoch 31, CIFAR-10 Batch 4:  Cost: 1.1      Valid Accuracy: 0.55 \n",
      "Epoch 31, CIFAR-10 Batch 5:  Cost: 1.11     Valid Accuracy: 0.536\n",
      "Epoch 32, CIFAR-10 Batch 1:  Cost: 1.26     Valid Accuracy: 0.541\n",
      "Epoch 32, CIFAR-10 Batch 2:  Cost: 1.09     Valid Accuracy: 0.54 \n",
      "Epoch 32, CIFAR-10 Batch 3:  Cost: 1.1      Valid Accuracy: 0.521\n",
      "Epoch 32, CIFAR-10 Batch 4:  Cost: 1.09     Valid Accuracy: 0.549\n",
      "Epoch 32, CIFAR-10 Batch 5:  Cost: 1.15     Valid Accuracy: 0.536\n",
      "Epoch 33, CIFAR-10 Batch 1:  Cost: 1.21     Valid Accuracy: 0.554\n",
      "Epoch 33, CIFAR-10 Batch 2:  Cost: 1.05     Valid Accuracy: 0.539\n",
      "Epoch 33, CIFAR-10 Batch 3:  Cost: 1.07     Valid Accuracy: 0.548\n",
      "Epoch 33, CIFAR-10 Batch 4:  Cost: 1.05     Valid Accuracy: 0.547\n",
      "Epoch 33, CIFAR-10 Batch 5:  Cost: 1.1      Valid Accuracy: 0.54 \n",
      "Epoch 34, CIFAR-10 Batch 1:  Cost: 1.16     Valid Accuracy: 0.552\n",
      "Epoch 34, CIFAR-10 Batch 2:  Cost: 1.06     Valid Accuracy: 0.541\n",
      "Epoch 34, CIFAR-10 Batch 3:  Cost: 0.993    Valid Accuracy: 0.542\n",
      "Epoch 34, CIFAR-10 Batch 4:  Cost: 1.02     Valid Accuracy: 0.55 \n",
      "Epoch 34, CIFAR-10 Batch 5:  Cost: 1.06     Valid Accuracy: 0.548\n",
      "Epoch 35, CIFAR-10 Batch 1:  Cost: 1.15     Valid Accuracy: 0.54 \n",
      "Epoch 35, CIFAR-10 Batch 2:  Cost: 1.04     Valid Accuracy: 0.545\n",
      "Epoch 35, CIFAR-10 Batch 3:  Cost: 1.0      Valid Accuracy: 0.552\n",
      "Epoch 35, CIFAR-10 Batch 4:  Cost: 1.03     Valid Accuracy: 0.554\n",
      "Epoch 35, CIFAR-10 Batch 5:  Cost: 1.02     Valid Accuracy: 0.559\n",
      "Epoch 36, CIFAR-10 Batch 1:  Cost: 1.16     Valid Accuracy: 0.554\n",
      "Epoch 36, CIFAR-10 Batch 2:  Cost: 1.02     Valid Accuracy: 0.539\n",
      "Epoch 36, CIFAR-10 Batch 3:  Cost: 1.04     Valid Accuracy: 0.552\n",
      "Epoch 36, CIFAR-10 Batch 4:  Cost: 1.01     Valid Accuracy: 0.559\n",
      "Epoch 36, CIFAR-10 Batch 5:  Cost: 1.02     Valid Accuracy: 0.561\n",
      "Epoch 37, CIFAR-10 Batch 1:  Cost: 1.11     Valid Accuracy: 0.553\n",
      "Epoch 37, CIFAR-10 Batch 2:  Cost: 1.02     Valid Accuracy: 0.551\n",
      "Epoch 37, CIFAR-10 Batch 3:  Cost: 1.02     Valid Accuracy: 0.554\n",
      "Epoch 37, CIFAR-10 Batch 4:  Cost: 1.02     Valid Accuracy: 0.561\n",
      "Epoch 37, CIFAR-10 Batch 5:  Cost: 1.07     Valid Accuracy: 0.563\n",
      "Epoch 38, CIFAR-10 Batch 1:  Cost: 1.09     Valid Accuracy: 0.56 \n",
      "Epoch 38, CIFAR-10 Batch 2:  Cost: 1.02     Valid Accuracy: 0.557\n",
      "Epoch 38, CIFAR-10 Batch 3:  Cost: 1.02     Valid Accuracy: 0.559\n",
      "Epoch 38, CIFAR-10 Batch 4:  Cost: 0.943    Valid Accuracy: 0.567\n",
      "Epoch 38, CIFAR-10 Batch 5:  Cost: 1.01     Valid Accuracy: 0.568\n",
      "Epoch 39, CIFAR-10 Batch 1:  Cost: 1.14     Valid Accuracy: 0.559\n",
      "Epoch 39, CIFAR-10 Batch 2:  Cost: 0.955    Valid Accuracy: 0.545\n",
      "Epoch 39, CIFAR-10 Batch 3:  Cost: 0.975    Valid Accuracy: 0.555\n",
      "Epoch 39, CIFAR-10 Batch 4:  Cost: 0.976    Valid Accuracy: 0.561\n",
      "Epoch 39, CIFAR-10 Batch 5:  Cost: 0.948    Valid Accuracy: 0.566\n",
      "Epoch 40, CIFAR-10 Batch 1:  Cost: 1.09     Valid Accuracy: 0.565\n",
      "Epoch 40, CIFAR-10 Batch 2:  Cost: 0.959    Valid Accuracy: 0.549\n",
      "Epoch 40, CIFAR-10 Batch 3:  Cost: 0.92     Valid Accuracy: 0.56 \n",
      "Epoch 40, CIFAR-10 Batch 4:  Cost: 0.965    Valid Accuracy: 0.574\n",
      "Epoch 40, CIFAR-10 Batch 5:  Cost: 0.949    Valid Accuracy: 0.564\n",
      "Epoch 41, CIFAR-10 Batch 1:  Cost: 1.09     Valid Accuracy: 0.545\n",
      "Epoch 41, CIFAR-10 Batch 2:  Cost: 0.968    Valid Accuracy: 0.566\n",
      "Epoch 41, CIFAR-10 Batch 3:  Cost: 0.903    Valid Accuracy: 0.558\n",
      "Epoch 41, CIFAR-10 Batch 4:  Cost: 0.896    Valid Accuracy: 0.572\n",
      "Epoch 41, CIFAR-10 Batch 5:  Cost: 0.955    Valid Accuracy: 0.572\n",
      "Epoch 42, CIFAR-10 Batch 1:  Cost: 1.09     Valid Accuracy: 0.572\n",
      "Epoch 42, CIFAR-10 Batch 2:  Cost: 0.895    Valid Accuracy: 0.559\n",
      "Epoch 42, CIFAR-10 Batch 3:  Cost: 0.961    Valid Accuracy: 0.567\n",
      "Epoch 42, CIFAR-10 Batch 4:  Cost: 0.913    Valid Accuracy: 0.571\n",
      "Epoch 42, CIFAR-10 Batch 5:  Cost: 0.899    Valid Accuracy: 0.573\n",
      "Epoch 43, CIFAR-10 Batch 1:  Cost: 1.07     Valid Accuracy: 0.564\n",
      "Epoch 43, CIFAR-10 Batch 2:  Cost: 0.948    Valid Accuracy: 0.556\n",
      "Epoch 43, CIFAR-10 Batch 3:  Cost: 0.943    Valid Accuracy: 0.564\n",
      "Epoch 43, CIFAR-10 Batch 4:  Cost: 0.924    Valid Accuracy: 0.569\n",
      "Epoch 43, CIFAR-10 Batch 5:  Cost: 0.889    Valid Accuracy: 0.572\n",
      "Epoch 44, CIFAR-10 Batch 1:  Cost: 1.04     Valid Accuracy: 0.561\n",
      "Epoch 44, CIFAR-10 Batch 2:  Cost: 0.924    Valid Accuracy: 0.567\n",
      "Epoch 44, CIFAR-10 Batch 3:  Cost: 0.905    Valid Accuracy: 0.567\n",
      "Epoch 44, CIFAR-10 Batch 4:  Cost: 0.878    Valid Accuracy: 0.574\n",
      "Epoch 44, CIFAR-10 Batch 5:  Cost: 0.867    Valid Accuracy: 0.577\n",
      "Epoch 45, CIFAR-10 Batch 1:  Cost: 1.03     Valid Accuracy: 0.567\n",
      "Epoch 45, CIFAR-10 Batch 2:  Cost: 0.888    Valid Accuracy: 0.569\n",
      "Epoch 45, CIFAR-10 Batch 3:  Cost: 0.876    Valid Accuracy: 0.58 \n",
      "Epoch 45, CIFAR-10 Batch 4:  Cost: 0.859    Valid Accuracy: 0.578\n",
      "Epoch 45, CIFAR-10 Batch 5:  Cost: 0.824    Valid Accuracy: 0.575\n",
      "Epoch 46, CIFAR-10 Batch 1:  Cost: 0.975    Valid Accuracy: 0.569\n",
      "Epoch 46, CIFAR-10 Batch 2:  Cost: 0.848    Valid Accuracy: 0.569\n",
      "Epoch 46, CIFAR-10 Batch 3:  Cost: 0.916    Valid Accuracy: 0.568\n",
      "Epoch 46, CIFAR-10 Batch 4:  Cost: 0.842    Valid Accuracy: 0.58 \n",
      "Epoch 46, CIFAR-10 Batch 5:  Cost: 0.832    Valid Accuracy: 0.578\n",
      "Epoch 47, CIFAR-10 Batch 1:  Cost: 1.02     Valid Accuracy: 0.555\n",
      "Epoch 47, CIFAR-10 Batch 2:  Cost: 0.794    Valid Accuracy: 0.556\n",
      "Epoch 47, CIFAR-10 Batch 3:  Cost: 0.887    Valid Accuracy: 0.558\n",
      "Epoch 47, CIFAR-10 Batch 4:  Cost: 0.824    Valid Accuracy: 0.582\n",
      "Epoch 47, CIFAR-10 Batch 5:  Cost: 0.851    Valid Accuracy: 0.577\n",
      "Epoch 48, CIFAR-10 Batch 1:  Cost: 0.975    Valid Accuracy: 0.567\n",
      "Epoch 48, CIFAR-10 Batch 2:  Cost: 0.827    Valid Accuracy: 0.559\n",
      "Epoch 48, CIFAR-10 Batch 3:  Cost: 0.867    Valid Accuracy: 0.563\n",
      "Epoch 48, CIFAR-10 Batch 4:  Cost: 0.854    Valid Accuracy: 0.577\n",
      "Epoch 48, CIFAR-10 Batch 5:  Cost: 0.776    Valid Accuracy: 0.576\n",
      "Epoch 49, CIFAR-10 Batch 1:  Cost: 0.972    Valid Accuracy: 0.565\n",
      "Epoch 49, CIFAR-10 Batch 2:  Cost: 0.858    Valid Accuracy: 0.569\n",
      "Epoch 49, CIFAR-10 Batch 3:  Cost: 0.838    Valid Accuracy: 0.579\n",
      "Epoch 49, CIFAR-10 Batch 4:  Cost: 0.826    Valid Accuracy: 0.584\n",
      "Epoch 49, CIFAR-10 Batch 5:  Cost: 0.786    Valid Accuracy: 0.586\n",
      "Epoch 50, CIFAR-10 Batch 1:  Cost: 0.956    Valid Accuracy: 0.568\n",
      "Epoch 50, CIFAR-10 Batch 2:  Cost: 0.78     Valid Accuracy: 0.579\n",
      "Epoch 50, CIFAR-10 Batch 3:  Cost: 0.82     Valid Accuracy: 0.58 \n",
      "Epoch 50, CIFAR-10 Batch 4:  Cost: 0.833    Valid Accuracy: 0.584\n",
      "Epoch 50, CIFAR-10 Batch 5:  Cost: 0.816    Valid Accuracy: 0.576\n",
      "Epoch 51, CIFAR-10 Batch 1:  Cost: 0.94     Valid Accuracy: 0.576\n",
      "Epoch 51, CIFAR-10 Batch 2:  Cost: 0.83     Valid Accuracy: 0.579\n",
      "Epoch 51, CIFAR-10 Batch 3:  Cost: 0.835    Valid Accuracy: 0.567\n",
      "Epoch 51, CIFAR-10 Batch 4:  Cost: 0.836    Valid Accuracy: 0.577\n",
      "Epoch 51, CIFAR-10 Batch 5:  Cost: 0.738    Valid Accuracy: 0.577\n",
      "Epoch 52, CIFAR-10 Batch 1:  Cost: 0.903    Valid Accuracy: 0.575\n",
      "Epoch 52, CIFAR-10 Batch 2:  Cost: 0.779    Valid Accuracy: 0.574\n",
      "Epoch 52, CIFAR-10 Batch 3:  Cost: 0.801    Valid Accuracy: 0.575\n",
      "Epoch 52, CIFAR-10 Batch 4:  Cost: 0.806    Valid Accuracy: 0.588\n",
      "Epoch 52, CIFAR-10 Batch 5:  Cost: 0.703    Valid Accuracy: 0.583\n",
      "Epoch 53, CIFAR-10 Batch 1:  Cost: 0.913    Valid Accuracy: 0.56 \n",
      "Epoch 53, CIFAR-10 Batch 2:  Cost: 0.784    Valid Accuracy: 0.566\n",
      "Epoch 53, CIFAR-10 Batch 3:  Cost: 0.829    Valid Accuracy: 0.572\n",
      "Epoch 53, CIFAR-10 Batch 4:  Cost: 0.758    Valid Accuracy: 0.585\n",
      "Epoch 53, CIFAR-10 Batch 5:  Cost: 0.697    Valid Accuracy: 0.585\n",
      "Epoch 54, CIFAR-10 Batch 1:  Cost: 0.895    Valid Accuracy: 0.582\n",
      "Epoch 54, CIFAR-10 Batch 2:  Cost: 0.756    Valid Accuracy: 0.576\n",
      "Epoch 54, CIFAR-10 Batch 3:  Cost: 0.787    Valid Accuracy: 0.577\n",
      "Epoch 54, CIFAR-10 Batch 4:  Cost: 0.742    Valid Accuracy: 0.591\n",
      "Epoch 54, CIFAR-10 Batch 5:  Cost: 0.677    Valid Accuracy: 0.586\n",
      "Epoch 55, CIFAR-10 Batch 1:  Cost: 0.902    Valid Accuracy: 0.574\n",
      "Epoch 55, CIFAR-10 Batch 2:  Cost: 0.732    Valid Accuracy: 0.58 \n",
      "Epoch 55, CIFAR-10 Batch 3:  Cost: 0.788    Valid Accuracy: 0.574\n",
      "Epoch 55, CIFAR-10 Batch 4:  Cost: 0.727    Valid Accuracy: 0.59 \n",
      "Epoch 55, CIFAR-10 Batch 5:  Cost: 0.675    Valid Accuracy: 0.584\n",
      "Epoch 56, CIFAR-10 Batch 1:  Cost: 0.878    Valid Accuracy: 0.583\n",
      "Epoch 56, CIFAR-10 Batch 2:  Cost: 0.751    Valid Accuracy: 0.576\n",
      "Epoch 56, CIFAR-10 Batch 3:  Cost: 0.777    Valid Accuracy: 0.576\n",
      "Epoch 56, CIFAR-10 Batch 4:  Cost: 0.763    Valid Accuracy: 0.588\n",
      "Epoch 56, CIFAR-10 Batch 5:  Cost: 0.691    Valid Accuracy: 0.587\n",
      "Epoch 57, CIFAR-10 Batch 1:  Cost: 0.911    Valid Accuracy: 0.582\n",
      "Epoch 57, CIFAR-10 Batch 2:  Cost: 0.723    Valid Accuracy: 0.578\n",
      "Epoch 57, CIFAR-10 Batch 3:  Cost: 0.78     Valid Accuracy: 0.581\n",
      "Epoch 57, CIFAR-10 Batch 4:  Cost: 0.718    Valid Accuracy: 0.582\n",
      "Epoch 57, CIFAR-10 Batch 5:  Cost: 0.636    Valid Accuracy: 0.591\n",
      "Epoch 58, CIFAR-10 Batch 1:  Cost: 0.864    Valid Accuracy: 0.568\n",
      "Epoch 58, CIFAR-10 Batch 2:  Cost: 0.755    Valid Accuracy: 0.579\n",
      "Epoch 58, CIFAR-10 Batch 3:  Cost: 0.774    Valid Accuracy: 0.58 \n",
      "Epoch 58, CIFAR-10 Batch 4:  Cost: 0.717    Valid Accuracy: 0.589\n",
      "Epoch 58, CIFAR-10 Batch 5:  Cost: 0.716    Valid Accuracy: 0.581\n",
      "Epoch 59, CIFAR-10 Batch 1:  Cost: 0.851    Valid Accuracy: 0.575\n",
      "Epoch 59, CIFAR-10 Batch 2:  Cost: 0.738    Valid Accuracy: 0.577\n",
      "Epoch 59, CIFAR-10 Batch 3:  Cost: 0.822    Valid Accuracy: 0.578\n",
      "Epoch 59, CIFAR-10 Batch 4:  Cost: 0.708    Valid Accuracy: 0.592\n",
      "Epoch 59, CIFAR-10 Batch 5:  Cost: 0.636    Valid Accuracy: 0.587\n",
      "Epoch 60, CIFAR-10 Batch 1:  Cost: 0.844    Valid Accuracy: 0.566\n",
      "Epoch 60, CIFAR-10 Batch 2:  Cost: 0.736    Valid Accuracy: 0.584\n",
      "Epoch 60, CIFAR-10 Batch 3:  Cost: 0.766    Valid Accuracy: 0.577\n",
      "Epoch 60, CIFAR-10 Batch 4:  Cost: 0.71     Valid Accuracy: 0.584\n",
      "Epoch 60, CIFAR-10 Batch 5:  Cost: 0.658    Valid Accuracy: 0.589\n",
      "Epoch 61, CIFAR-10 Batch 1:  Cost: 0.787    Valid Accuracy: 0.578\n",
      "Epoch 61, CIFAR-10 Batch 2:  Cost: 0.714    Valid Accuracy: 0.58 \n",
      "Epoch 61, CIFAR-10 Batch 3:  Cost: 0.77     Valid Accuracy: 0.577\n",
      "Epoch 61, CIFAR-10 Batch 4:  Cost: 0.698    Valid Accuracy: 0.592\n",
      "Epoch 61, CIFAR-10 Batch 5:  Cost: 0.655    Valid Accuracy: 0.586\n",
      "Epoch 62, CIFAR-10 Batch 1:  Cost: 0.813    Valid Accuracy: 0.571\n",
      "Epoch 62, CIFAR-10 Batch 2:  Cost: 0.704    Valid Accuracy: 0.577\n",
      "Epoch 62, CIFAR-10 Batch 3:  Cost: 0.732    Valid Accuracy: 0.572\n",
      "Epoch 62, CIFAR-10 Batch 4:  Cost: 0.728    Valid Accuracy: 0.589\n",
      "Epoch 62, CIFAR-10 Batch 5:  Cost: 0.632    Valid Accuracy: 0.59 \n",
      "Epoch 63, CIFAR-10 Batch 1:  Cost: 0.8      Valid Accuracy: 0.579\n",
      "Epoch 63, CIFAR-10 Batch 2:  Cost: 0.689    Valid Accuracy: 0.584\n",
      "Epoch 63, CIFAR-10 Batch 3:  Cost: 0.74     Valid Accuracy: 0.576\n",
      "Epoch 63, CIFAR-10 Batch 4:  Cost: 0.669    Valid Accuracy: 0.588\n",
      "Epoch 63, CIFAR-10 Batch 5:  Cost: 0.625    Valid Accuracy: 0.59 \n",
      "Epoch 64, CIFAR-10 Batch 1:  Cost: 0.798    Valid Accuracy: 0.578\n",
      "Epoch 64, CIFAR-10 Batch 2:  Cost: 0.649    Valid Accuracy: 0.577\n",
      "Epoch 64, CIFAR-10 Batch 3:  Cost: 0.722    Valid Accuracy: 0.578\n",
      "Epoch 64, CIFAR-10 Batch 4:  Cost: 0.672    Valid Accuracy: 0.589\n",
      "Epoch 64, CIFAR-10 Batch 5:  Cost: 0.593    Valid Accuracy: 0.585\n",
      "Epoch 65, CIFAR-10 Batch 1:  Cost: 0.774    Valid Accuracy: 0.582\n",
      "Epoch 65, CIFAR-10 Batch 2:  Cost: 0.648    Valid Accuracy: 0.58 \n",
      "Epoch 65, CIFAR-10 Batch 3:  Cost: 0.702    Valid Accuracy: 0.589\n",
      "Epoch 65, CIFAR-10 Batch 4:  Cost: 0.689    Valid Accuracy: 0.589\n",
      "Epoch 65, CIFAR-10 Batch 5:  Cost: 0.586    Valid Accuracy: 0.59 \n",
      "Epoch 66, CIFAR-10 Batch 1:  Cost: 0.779    Valid Accuracy: 0.587\n",
      "Epoch 66, CIFAR-10 Batch 2:  Cost: 0.674    Valid Accuracy: 0.581\n",
      "Epoch 66, CIFAR-10 Batch 3:  Cost: 0.687    Valid Accuracy: 0.594\n",
      "Epoch 66, CIFAR-10 Batch 4:  Cost: 0.685    Valid Accuracy: 0.593\n",
      "Epoch 66, CIFAR-10 Batch 5:  Cost: 0.607    Valid Accuracy: 0.58 \n",
      "Epoch 67, CIFAR-10 Batch 1:  Cost: 0.753    Valid Accuracy: 0.589\n",
      "Epoch 67, CIFAR-10 Batch 2:  Cost: 0.68     Valid Accuracy: 0.581\n",
      "Epoch 67, CIFAR-10 Batch 3:  Cost: 0.692    Valid Accuracy: 0.586\n",
      "Epoch 67, CIFAR-10 Batch 4:  Cost: 0.662    Valid Accuracy: 0.597\n",
      "Epoch 67, CIFAR-10 Batch 5:  Cost: 0.602    Valid Accuracy: 0.592\n",
      "Epoch 68, CIFAR-10 Batch 1:  Cost: 0.77     Valid Accuracy: 0.579\n",
      "Epoch 68, CIFAR-10 Batch 2:  Cost: 0.624    Valid Accuracy: 0.592\n",
      "Epoch 68, CIFAR-10 Batch 3:  Cost: 0.702    Valid Accuracy: 0.577\n",
      "Epoch 68, CIFAR-10 Batch 4:  Cost: 0.675    Valid Accuracy: 0.595\n",
      "Epoch 68, CIFAR-10 Batch 5:  Cost: 0.572    Valid Accuracy: 0.587\n",
      "Epoch 69, CIFAR-10 Batch 1:  Cost: 0.762    Valid Accuracy: 0.581\n",
      "Epoch 69, CIFAR-10 Batch 2:  Cost: 0.64     Valid Accuracy: 0.585\n",
      "Epoch 69, CIFAR-10 Batch 3:  Cost: 0.651    Valid Accuracy: 0.589\n",
      "Epoch 69, CIFAR-10 Batch 4:  Cost: 0.615    Valid Accuracy: 0.595\n",
      "Epoch 69, CIFAR-10 Batch 5:  Cost: 0.544    Valid Accuracy: 0.587\n",
      "Epoch 70, CIFAR-10 Batch 1:  Cost: 0.731    Valid Accuracy: 0.582\n",
      "Epoch 70, CIFAR-10 Batch 2:  Cost: 0.653    Valid Accuracy: 0.59 \n",
      "Epoch 70, CIFAR-10 Batch 3:  Cost: 0.649    Valid Accuracy: 0.583\n",
      "Epoch 70, CIFAR-10 Batch 4:  Cost: 0.631    Valid Accuracy: 0.594\n",
      "Epoch 70, CIFAR-10 Batch 5:  Cost: 0.559    Valid Accuracy: 0.59 \n",
      "Epoch 71, CIFAR-10 Batch 1:  Cost: 0.774    Valid Accuracy: 0.588\n",
      "Epoch 71, CIFAR-10 Batch 2:  Cost: 0.67     Valid Accuracy: 0.575\n",
      "Epoch 71, CIFAR-10 Batch 3:  Cost: 0.635    Valid Accuracy: 0.581\n",
      "Epoch 71, CIFAR-10 Batch 4:  Cost: 0.636    Valid Accuracy: 0.593\n",
      "Epoch 71, CIFAR-10 Batch 5:  Cost: 0.604    Valid Accuracy: 0.595\n",
      "Epoch 72, CIFAR-10 Batch 1:  Cost: 0.737    Valid Accuracy: 0.588\n",
      "Epoch 72, CIFAR-10 Batch 2:  Cost: 0.633    Valid Accuracy: 0.589\n",
      "Epoch 72, CIFAR-10 Batch 3:  Cost: 0.678    Valid Accuracy: 0.577\n",
      "Epoch 72, CIFAR-10 Batch 4:  Cost: 0.603    Valid Accuracy: 0.594\n",
      "Epoch 72, CIFAR-10 Batch 5:  Cost: 0.527    Valid Accuracy: 0.596\n",
      "Epoch 73, CIFAR-10 Batch 1:  Cost: 0.732    Valid Accuracy: 0.584\n",
      "Epoch 73, CIFAR-10 Batch 2:  Cost: 0.661    Valid Accuracy: 0.595\n",
      "Epoch 73, CIFAR-10 Batch 3:  Cost: 0.627    Valid Accuracy: 0.587\n",
      "Epoch 73, CIFAR-10 Batch 4:  Cost: 0.631    Valid Accuracy: 0.597\n",
      "Epoch 73, CIFAR-10 Batch 5:  Cost: 0.523    Valid Accuracy: 0.588\n",
      "Epoch 74, CIFAR-10 Batch 1:  Cost: 0.708    Valid Accuracy: 0.586\n",
      "Epoch 74, CIFAR-10 Batch 2:  Cost: 0.638    Valid Accuracy: 0.59 \n",
      "Epoch 74, CIFAR-10 Batch 3:  Cost: 0.585    Valid Accuracy: 0.588\n",
      "Epoch 74, CIFAR-10 Batch 4:  Cost: 0.609    Valid Accuracy: 0.601\n",
      "Epoch 74, CIFAR-10 Batch 5:  Cost: 0.541    Valid Accuracy: 0.593\n",
      "Epoch 75, CIFAR-10 Batch 1:  Cost: 0.687    Valid Accuracy: 0.581\n",
      "Epoch 75, CIFAR-10 Batch 2:  Cost: 0.648    Valid Accuracy: 0.585\n",
      "Epoch 75, CIFAR-10 Batch 3:  Cost: 0.663    Valid Accuracy: 0.582\n",
      "Epoch 75, CIFAR-10 Batch 4:  Cost: 0.592    Valid Accuracy: 0.602\n",
      "Epoch 75, CIFAR-10 Batch 5:  Cost: 0.521    Valid Accuracy: 0.599\n",
      "Epoch 76, CIFAR-10 Batch 1:  Cost: 0.675    Valid Accuracy: 0.587\n",
      "Epoch 76, CIFAR-10 Batch 2:  Cost: 0.602    Valid Accuracy: 0.587\n",
      "Epoch 76, CIFAR-10 Batch 3:  Cost: 0.571    Valid Accuracy: 0.588\n",
      "Epoch 76, CIFAR-10 Batch 4:  Cost: 0.609    Valid Accuracy: 0.591\n",
      "Epoch 76, CIFAR-10 Batch 5:  Cost: 0.523    Valid Accuracy: 0.597\n",
      "Epoch 77, CIFAR-10 Batch 1:  Cost: 0.69     Valid Accuracy: 0.579\n",
      "Epoch 77, CIFAR-10 Batch 2:  Cost: 0.604    Valid Accuracy: 0.588\n",
      "Epoch 77, CIFAR-10 Batch 3:  Cost: 0.575    Valid Accuracy: 0.585\n",
      "Epoch 77, CIFAR-10 Batch 4:  Cost: 0.606    Valid Accuracy: 0.596\n",
      "Epoch 77, CIFAR-10 Batch 5:  Cost: 0.52     Valid Accuracy: 0.597\n",
      "Epoch 78, CIFAR-10 Batch 1:  Cost: 0.705    Valid Accuracy: 0.586\n",
      "Epoch 78, CIFAR-10 Batch 2:  Cost: 0.618    Valid Accuracy: 0.595\n",
      "Epoch 78, CIFAR-10 Batch 3:  Cost: 0.596    Valid Accuracy: 0.583\n",
      "Epoch 78, CIFAR-10 Batch 4:  Cost: 0.597    Valid Accuracy: 0.594\n",
      "Epoch 78, CIFAR-10 Batch 5:  Cost: 0.539    Valid Accuracy: 0.587\n",
      "Epoch 79, CIFAR-10 Batch 1:  Cost: 0.686    Valid Accuracy: 0.592\n",
      "Epoch 79, CIFAR-10 Batch 2:  Cost: 0.58     Valid Accuracy: 0.586\n",
      "Epoch 79, CIFAR-10 Batch 3:  Cost: 0.587    Valid Accuracy: 0.584\n",
      "Epoch 79, CIFAR-10 Batch 4:  Cost: 0.598    Valid Accuracy: 0.596\n",
      "Epoch 79, CIFAR-10 Batch 5:  Cost: 0.546    Valid Accuracy: 0.598\n",
      "Epoch 80, CIFAR-10 Batch 1:  Cost: 0.633    Valid Accuracy: 0.588\n",
      "Epoch 80, CIFAR-10 Batch 2:  Cost: 0.571    Valid Accuracy: 0.585\n",
      "Epoch 80, CIFAR-10 Batch 3:  Cost: 0.594    Valid Accuracy: 0.579\n",
      "Epoch 80, CIFAR-10 Batch 4:  Cost: 0.572    Valid Accuracy: 0.597\n",
      "Epoch 80, CIFAR-10 Batch 5:  Cost: 0.549    Valid Accuracy: 0.585\n"
     ]
    }
   ],
   "source": [
    "\"\"\"\n",
    "DON'T MODIFY ANYTHING IN THIS CELL\n",
    "\"\"\"\n",
    "save_model_path = './image_classification'\n",
    "\n",
    "print('Training...')\n",
    "with tf.Session() as sess:\n",
    "    # Initializing the variables\n",
    "    sess.run(tf.global_variables_initializer())\n",
    "    \n",
    "    # Training cycle\n",
    "    for epoch in range(epochs):\n",
    "        # Loop over all batches\n",
    "        n_batches = 5\n",
    "        for batch_i in range(1, n_batches + 1):\n",
    "            for batch_features, batch_labels in helper.load_preprocess_training_batch(batch_i, batch_size):\n",
    "                train_neural_network(sess, optimizer, keep_probability, batch_features, batch_labels)\n",
    "            print('Epoch {:>2}, CIFAR-10 Batch {}:  '.format(epoch + 1, batch_i), end='')\n",
    "            print_stats(sess, batch_features, batch_labels, cost, accuracy)\n",
    "            \n",
    "    # Save Model\n",
    "    saver = tf.train.Saver()\n",
    "    save_path = saver.save(sess, save_model_path)"
   ]
  },
  {
   "cell_type": "markdown",
   "metadata": {
    "deletable": true,
    "editable": true
   },
   "source": [
    "# Checkpoint\n",
    "The model has been saved to disk.\n",
    "## Test Model\n",
    "Test your model against the test dataset.  This will be your final accuracy. You should have an accuracy greater than 50%. If you don't, keep tweaking the model architecture and parameters."
   ]
  },
  {
   "cell_type": "code",
   "execution_count": 68,
   "metadata": {
    "collapsed": false,
    "deletable": true,
    "editable": true
   },
   "outputs": [
    {
     "name": "stdout",
     "output_type": "stream",
     "text": [
      "Testing Accuracy: 0.5903876582278481\n",
      "\n"
     ]
    },
    {
     "data": {
      "image/png": "[encoded data removed]",
      "text/plain": [
       "<matplotlib.figure.Figure at 0x7ff13f1c9c18>"
      ]
     },
     "metadata": {
      "image/png": {
       "height": 319,
       "width": 355
      }
     },
     "output_type": "display_data"
    }
   ],
   "source": [
    "\"\"\"\n",
    "DON'T MODIFY ANYTHING IN THIS CELL\n",
    "\"\"\"\n",
    "%matplotlib inline\n",
    "%config InlineBackend.figure_format = 'retina'\n",
    "\n",
    "import tensorflow as tf\n",
    "import pickle\n",
    "import helper\n",
    "import random\n",
    "\n",
    "# Set batch size if not already set\n",
    "try:\n",
    "    if batch_size:\n",
    "        pass\n",
    "except NameError:\n",
    "    batch_size = 64\n",
    "\n",
    "save_model_path = './image_classification'\n",
    "n_samples = 4\n",
    "top_n_predictions = 3\n",
    "\n",
    "def test_model():\n",
    "    \"\"\"\n",
    "    Test the saved model against the test dataset\n",
    "    \"\"\"\n",
    "\n",
    "    test_features, test_labels = pickle.load(open('preprocess_training.p', mode='rb'))\n",
    "    loaded_graph = tf.Graph()\n",
    "\n",
    "    with tf.Session(graph=loaded_graph) as sess:\n",
    "        # Load model\n",
    "        loader = tf.train.import_meta_graph(save_model_path + '.meta')\n",
    "        loader.restore(sess, save_model_path)\n",
    "\n",
    "        # Get Tensors from loaded model\n",
    "        loaded_x = loaded_graph.get_tensor_by_name('x:0')\n",
    "        loaded_y = loaded_graph.get_tensor_by_name('y:0')\n",
    "        loaded_keep_prob = loaded_graph.get_tensor_by_name('keep_prob:0')\n",
    "        loaded_logits = loaded_graph.get_tensor_by_name('logits:0')\n",
    "        loaded_acc = loaded_graph.get_tensor_by_name('accuracy:0')\n",
    "        \n",
    "        # Get accuracy in batches for memory limitations\n",
    "        test_batch_acc_total = 0\n",
    "        test_batch_count = 0\n",
    "        \n",
    "        for train_feature_batch, train_label_batch in helper.batch_features_labels(test_features, test_labels, batch_size):\n",
    "            test_batch_acc_total += sess.run(\n",
    "                loaded_acc,\n",
    "                feed_dict={loaded_x: train_feature_batch, loaded_y: train_label_batch, loaded_keep_prob: 1.0})\n",
    "            test_batch_count += 1\n",
    "\n",
    "        print('Testing Accuracy: {}\\n'.format(test_batch_acc_total/test_batch_count))\n",
    "\n",
    "        # Print Random Samples\n",
    "        random_test_features, random_test_labels = tuple(zip(*random.sample(list(zip(test_features, test_labels)), n_samples)))\n",
    "        random_test_predictions = sess.run(\n",
    "            tf.nn.top_k(tf.nn.softmax(loaded_logits), top_n_predictions),\n",
    "            feed_dict={loaded_x: random_test_features, loaded_y: random_test_labels, loaded_keep_prob: 1.0})\n",
    "        helper.display_image_predictions(random_test_features, random_test_labels, random_test_predictions)\n",
    "\n",
    "\n",
    "test_model()"
   ]
  },
  {
   "cell_type": "markdown",
   "metadata": {
    "deletable": true,
    "editable": true
   },
   "source": [
    "## Why 50-70% Accuracy?\n",
    "You might be wondering why you can't get an accuracy any higher. First things first, 50% isn't bad for a simple CNN.  Pure guessing would get you 10% accuracy. However, you might notice people are getting scores [well above 70%](http://rodrigob.github.io/are_we_there_yet/build/classification_datasets_results.html#43494641522d3130).  That's because we haven't taught you all there is to know about neural networks. We still need to cover a few more techniques.\n",
    "## Submitting This Project\n",
    "When submitting this project, make sure to run all the cells before saving the notebook.  Save the notebook file as \"dlnd_image_classification.ipynb\" and save it as a HTML file under \"File\" -> \"Download as\".  Include the \"helper.py\" and \"problem_unittests.py\" files in your submission."
   ]
  }
 ],
 "metadata": {
  "anaconda-cloud": {},
  "kernelspec": {
   "display_name": "Python 3",
   "language": "python",
   "name": "python3"
  },
  "language_info": {
   "codemirror_mode": {
    "name": "ipython",
    "version": 3
   },
   "file_extension": ".py",
   "mimetype": "text/x-python",
   "name": "python",
   "nbconvert_exporter": "python",
   "pygments_lexer": "ipython3",
   "version": "3.5.2"
  },
  "widgets": {
   "state": {},
   "version": "1.1.2"
  }
 },
 "nbformat": 4,
 "nbformat_minor": 0
}
